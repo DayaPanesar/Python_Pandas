{
 "cells": [
  {
   "cell_type": "markdown",
   "id": "cbb4c68c",
   "metadata": {},
   "source": [
    "# Intro to Pandas\n",
    "by Ryan Orsinger"
   ]
  },
  {
   "cell_type": "markdown",
   "id": "d1c2ddbd",
   "metadata": {},
   "source": [
    "## Module 1: Intro to pandas series\n",
    "- Creating series from Python collections\n",
    "- Doing math on series of numbers\n",
    "- Describing our data\n",
    "- Filtering series\n",
    "- Operating on series of strings\n",
    "- Using built-in series attributes and methods\n",
    "\n",
    "## What is pandas?\n",
    "- The leading data analysis library for Python\n",
    "- Built for acquiring, cleaning, organizing, and analyzing data\n",
    "- Series and DataFrames are powerful pandas datasets\n",
    "\n",
    "## Why pandas?\n",
    "- Pandas is the *de facto* library for data analysis in Python ecosystem\n",
    "- Pandas is also *fast*, faster than base Python\n",
    "- Enables accomplishing more with less code"
   ]
  },
  {
   "cell_type": "markdown",
   "id": "5f13f743",
   "metadata": {},
   "source": [
    "### Pandas Series Part 1\n",
    "- Creating series objects\n",
    "- Assigning series\n",
    "- Doing math on series\n",
    "- Describing a series"
   ]
  },
  {
   "cell_type": "code",
   "execution_count": 1,
   "id": "c020021a",
   "metadata": {},
   "outputs": [],
   "source": [
    "import pandas as pd #aliasing pandas"
   ]
  },
  {
   "cell_type": "code",
   "execution_count": 3,
   "id": "11c08f3f",
   "metadata": {},
   "outputs": [
    {
     "data": {
      "text/plain": [
       "0    7\n",
       "1    8\n",
       "2    9\n",
       "dtype: int64"
      ]
     },
     "execution_count": 3,
     "metadata": {},
     "output_type": "execute_result"
    }
   ],
   "source": [
    "pd.Series([7, 8, 9])"
   ]
  },
  {
   "cell_type": "code",
   "execution_count": 7,
   "id": "64ef6e74",
   "metadata": {},
   "outputs": [
    {
     "data": {
      "text/plain": [
       "0     True\n",
       "1    False\n",
       "2     True\n",
       "dtype: bool"
      ]
     },
     "execution_count": 7,
     "metadata": {},
     "output_type": "execute_result"
    }
   ],
   "source": [
    "# Assigning a series to a variable \n",
    "results = pd.Series([True, False, True])\n",
    "results"
   ]
  },
  {
   "cell_type": "code",
   "execution_count": 9,
   "id": "a7cded91-c94f-42cf-8811-da2fbf9ddfef",
   "metadata": {},
   "outputs": [
    {
     "name": "stdout",
     "output_type": "stream",
     "text": [
      "<class 'pandas.core.series.Series'>\n"
     ]
    }
   ],
   "source": [
    "print(type(results))"
   ]
  },
  {
   "cell_type": "code",
   "execution_count": 11,
   "id": "11929db1",
   "metadata": {},
   "outputs": [
    {
     "data": {
      "text/plain": [
       "0       red\n",
       "1    orange\n",
       "2    yellow\n",
       "3     green\n",
       "4      blue\n",
       "5    indigo\n",
       "6    violet\n",
       "dtype: object"
      ]
     },
     "execution_count": 11,
     "metadata": {},
     "output_type": "execute_result"
    }
   ],
   "source": [
    "# Series can be any Python data type\n",
    "colors = [\"red\", \"orange\", \"yellow\", \"green\", \"blue\", \"indigo\", \"violet\"]\n",
    "colors = pd.Series(colors)\n",
    "colors"
   ]
  },
  {
   "cell_type": "code",
   "execution_count": 19,
   "id": "dca4507c",
   "metadata": {},
   "outputs": [
    {
     "data": {
      "text/plain": [
       "0   -3\n",
       "1   -2\n",
       "2   -1\n",
       "3    0\n",
       "4    1\n",
       "5    2\n",
       "dtype: int64"
      ]
     },
     "execution_count": 19,
     "metadata": {},
     "output_type": "execute_result"
    }
   ],
   "source": [
    "# We can assign ranges to make series of numbers\n",
    "#first number in range is inclusive the other is exclusive, \n",
    "#e.g., (2,6) would produce 2,3,4,5 \n",
    "numbers = pd.Series(range(-3, 3))\n",
    "numbers"
   ]
  },
  {
   "cell_type": "code",
   "execution_count": 25,
   "id": "618d95d8-8e65-45c9-9247-855de47522de",
   "metadata": {},
   "outputs": [
    {
     "data": {
      "text/plain": [
       "0   -4\n",
       "1   -2\n",
       "2    0\n",
       "3    2\n",
       "4    4\n",
       "dtype: int64"
      ]
     },
     "execution_count": 25,
     "metadata": {},
     "output_type": "execute_result"
    }
   ],
   "source": [
    "#will go from -4 to 5 in steps of 2 \n",
    "#remember last number in range is excluded\n",
    "numbers2 = pd.Series(range(-4, 5, 2))\n",
    "numbers2"
   ]
  },
  {
   "cell_type": "code",
   "execution_count": 27,
   "id": "d090109f",
   "metadata": {},
   "outputs": [
    {
     "data": {
      "text/plain": [
       "0   -2\n",
       "1   -1\n",
       "2    0\n",
       "3    1\n",
       "4    2\n",
       "5    3\n",
       "dtype: int64"
      ]
     },
     "execution_count": 27,
     "metadata": {},
     "output_type": "execute_result"
    }
   ],
   "source": [
    "# We can do arithmetic on entire series with our math operators\n",
    "numbers + 1"
   ]
  },
  {
   "cell_type": "code",
   "execution_count": 29,
   "id": "5f559c69",
   "metadata": {},
   "outputs": [
    {
     "data": {
      "text/plain": [
       "0   -1\n",
       "1    1\n",
       "2    3\n",
       "3    5\n",
       "4    7\n",
       "5    9\n",
       "dtype: int64"
      ]
     },
     "execution_count": 29,
     "metadata": {},
     "output_type": "execute_result"
    }
   ],
   "source": [
    "# Pandas, like Python, follows PEMDAS order of operations\n",
    "numbers * 2 + 5"
   ]
  },
  {
   "cell_type": "code",
   "execution_count": 31,
   "id": "d0b1e271",
   "metadata": {},
   "outputs": [
    {
     "data": {
      "text/plain": [
       "0    9\n",
       "1    4\n",
       "2    1\n",
       "3    0\n",
       "4    1\n",
       "5    4\n",
       "dtype: int64"
      ]
     },
     "execution_count": 31,
     "metadata": {},
     "output_type": "execute_result"
    }
   ],
   "source": [
    "# Notice how Python's built-in operators work on the entire series\n",
    "numbers ** 2"
   ]
  },
  {
   "cell_type": "code",
   "execution_count": 39,
   "id": "8040187a",
   "metadata": {},
   "outputs": [
    {
     "data": {
      "text/plain": [
       "0         NaN\n",
       "1         NaN\n",
       "2         NaN\n",
       "3    0.000000\n",
       "4    1.000000\n",
       "5    1.414214\n",
       "dtype: float64"
      ]
     },
     "execution_count": 39,
     "metadata": {},
     "output_type": "execute_result"
    }
   ],
   "source": [
    "# We can take the square root by raising to the 1/2 power\n",
    "numbers ** (1/2)\n",
    "#NaN means 'not a number' or for missing data"
   ]
  },
  {
   "cell_type": "code",
   "execution_count": 35,
   "id": "a158c7f5",
   "metadata": {},
   "outputs": [
    {
     "data": {
      "text/plain": [
       "0   -3\n",
       "1   -2\n",
       "2   -1\n",
       "3    0\n",
       "4    1\n",
       "5    2\n",
       "dtype: int64"
      ]
     },
     "execution_count": 35,
     "metadata": {},
     "output_type": "execute_result"
    }
   ],
   "source": [
    "# Notice that arithmetic does not change the original series\n",
    "numbers"
   ]
  },
  {
   "cell_type": "code",
   "execution_count": 37,
   "id": "335a5ceb",
   "metadata": {},
   "outputs": [
    {
     "data": {
      "text/plain": [
       "0   -9\n",
       "1   -6\n",
       "2   -3\n",
       "3    0\n",
       "4    3\n",
       "5    6\n",
       "dtype: int64"
      ]
     },
     "execution_count": 37,
     "metadata": {},
     "output_type": "execute_result"
    }
   ],
   "source": [
    "# Assigning the result of an operation to a new variable\n",
    "triple = numbers * 3\n",
    "triple"
   ]
  },
  {
   "cell_type": "code",
   "execution_count": 41,
   "id": "5ec1d545",
   "metadata": {},
   "outputs": [
    {
     "data": {
      "text/plain": [
       "0     1.3\n",
       "1     2.5\n",
       "2     2.5\n",
       "3     5.6\n",
       "4    10.1\n",
       "dtype: float64"
      ]
     },
     "execution_count": 41,
     "metadata": {},
     "output_type": "execute_result"
    }
   ],
   "source": [
    "prices = pd.Series([1.30, 2.50, 2.50, 5.60, 10.10])\n",
    "prices"
   ]
  },
  {
   "cell_type": "code",
   "execution_count": 43,
   "id": "c78dc97a",
   "metadata": {},
   "outputs": [
    {
     "data": {
      "text/plain": [
       "0    1.04\n",
       "1    2.00\n",
       "2    2.00\n",
       "3    4.48\n",
       "4    8.08\n",
       "dtype: float64"
      ]
     },
     "execution_count": 43,
     "metadata": {},
     "output_type": "execute_result"
    }
   ],
   "source": [
    "# Reassigning a variable to overwrite the values with the result of an operation\n",
    "prices = prices * .8\n",
    "prices"
   ]
  },
  {
   "cell_type": "code",
   "execution_count": 45,
   "id": "d98b25e7",
   "metadata": {},
   "outputs": [
    {
     "data": {
      "text/plain": [
       "0    7\n",
       "1    8\n",
       "2    8\n",
       "3    9\n",
       "4    9\n",
       "5    9\n",
       "dtype: int64"
      ]
     },
     "execution_count": 45,
     "metadata": {},
     "output_type": "execute_result"
    }
   ],
   "source": [
    "s = pd.Series([7, 8, 8, 9, 9, 9])\n",
    "s"
   ]
  },
  {
   "cell_type": "code",
   "execution_count": 47,
   "id": "3408cb7e",
   "metadata": {},
   "outputs": [
    {
     "data": {
      "text/plain": [
       "RangeIndex(start=0, stop=6, step=1)"
      ]
     },
     "execution_count": 47,
     "metadata": {},
     "output_type": "execute_result"
    }
   ],
   "source": [
    "# The .index attribute returns information about the index\n",
    "# Zero based integer indexes are the default\n",
    "# Pandas can also use strings and dates as index values\n",
    "s.index"
   ]
  },
  {
   "cell_type": "code",
   "execution_count": 49,
   "id": "dcc08f10",
   "metadata": {},
   "outputs": [
    {
     "data": {
      "text/plain": [
       "dtype('int64')"
      ]
     },
     "execution_count": 49,
     "metadata": {},
     "output_type": "execute_result"
    }
   ],
   "source": [
    "# The .dtype attribute returns\n",
    "s.dtype"
   ]
  },
  {
   "cell_type": "code",
   "execution_count": 51,
   "id": "dd9f8936",
   "metadata": {},
   "outputs": [
    {
     "data": {
      "text/plain": [
       "array([7, 8, 8, 9, 9, 9])"
      ]
     },
     "execution_count": 51,
     "metadata": {},
     "output_type": "execute_result"
    }
   ],
   "source": [
    "# The .values attribute returns only the values from a pandas dataset\n",
    "s.values"
   ]
  },
  {
   "cell_type": "code",
   "execution_count": 53,
   "id": "4ff066a6",
   "metadata": {},
   "outputs": [
    {
     "data": {
      "text/plain": [
       "(6,)"
      ]
     },
     "execution_count": 53,
     "metadata": {},
     "output_type": "execute_result"
    }
   ],
   "source": [
    "# On a series, .shape returns the number of elements in that series.\n",
    "# On a dataframe, .shape returns the number of rows and columns\n",
    "s.shape"
   ]
  },
  {
   "cell_type": "code",
   "execution_count": 55,
   "id": "afef0d0e",
   "metadata": {},
   "outputs": [
    {
     "data": {
      "text/plain": [
       "9    3\n",
       "8    2\n",
       "7    1\n",
       "dtype: int64"
      ]
     },
     "execution_count": 55,
     "metadata": {},
     "output_type": "execute_result"
    }
   ],
   "source": [
    "# .value_counts returns a frequency count of values\n",
    "# The index is the value\n",
    "s.value_counts()"
   ]
  },
  {
   "cell_type": "code",
   "execution_count": 57,
   "id": "22e91ad8",
   "metadata": {},
   "outputs": [
    {
     "data": {
      "text/plain": [
       "0    9\n",
       "dtype: int64"
      ]
     },
     "execution_count": 57,
     "metadata": {},
     "output_type": "execute_result"
    }
   ],
   "source": [
    "# Mode is the most frequently occurring value in a dataset\n",
    "s.mode()"
   ]
  },
  {
   "cell_type": "code",
   "execution_count": 59,
   "id": "ee047939",
   "metadata": {},
   "outputs": [
    {
     "data": {
      "text/plain": [
       "8.5"
      ]
     },
     "execution_count": 59,
     "metadata": {},
     "output_type": "execute_result"
    }
   ],
   "source": [
    "# Median is the ordinal middle of the sorted data\n",
    "s.median()"
   ]
  },
  {
   "cell_type": "code",
   "execution_count": 61,
   "id": "454a7dfb",
   "metadata": {},
   "outputs": [
    {
     "data": {
      "text/plain": [
       "8.333333333333334"
      ]
     },
     "execution_count": 61,
     "metadata": {},
     "output_type": "execute_result"
    }
   ],
   "source": [
    "# Average\n",
    "s.mean()"
   ]
  },
  {
   "cell_type": "code",
   "execution_count": 63,
   "id": "0aa6ebbb",
   "metadata": {},
   "outputs": [
    {
     "data": {
      "text/plain": [
       "0.816496580927726"
      ]
     },
     "execution_count": 63,
     "metadata": {},
     "output_type": "execute_result"
    }
   ],
   "source": [
    "# Standard deviation is a measure of spread\n",
    "s.std()"
   ]
  },
  {
   "cell_type": "code",
   "execution_count": 65,
   "id": "bba1e8f1",
   "metadata": {},
   "outputs": [
    {
     "data": {
      "text/plain": [
       "7"
      ]
     },
     "execution_count": 65,
     "metadata": {},
     "output_type": "execute_result"
    }
   ],
   "source": [
    "# .min returns the lowest value\n",
    "s.min()"
   ]
  },
  {
   "cell_type": "code",
   "execution_count": 67,
   "id": "be8e129d",
   "metadata": {},
   "outputs": [
    {
     "data": {
      "text/plain": [
       "0"
      ]
     },
     "execution_count": 67,
     "metadata": {},
     "output_type": "execute_result"
    }
   ],
   "source": [
    "# argmin returns the index of the lowest value\n",
    "s.argmin()"
   ]
  },
  {
   "cell_type": "code",
   "execution_count": 69,
   "id": "39d5b294",
   "metadata": {},
   "outputs": [
    {
     "data": {
      "text/plain": [
       "9"
      ]
     },
     "execution_count": 69,
     "metadata": {},
     "output_type": "execute_result"
    }
   ],
   "source": [
    "s.max()"
   ]
  },
  {
   "cell_type": "code",
   "execution_count": 71,
   "id": "ef7f7d90",
   "metadata": {},
   "outputs": [
    {
     "data": {
      "text/plain": [
       "3"
      ]
     },
     "execution_count": 71,
     "metadata": {},
     "output_type": "execute_result"
    }
   ],
   "source": [
    "s.argmax()"
   ]
  },
  {
   "cell_type": "code",
   "execution_count": 73,
   "id": "2e02ea0b",
   "metadata": {},
   "outputs": [
    {
     "data": {
      "text/plain": [
       "0    7\n",
       "1    8\n",
       "2    8\n",
       "3    9\n",
       "4    9\n",
       "5    9\n",
       "dtype: int64"
      ]
     },
     "execution_count": 73,
     "metadata": {},
     "output_type": "execute_result"
    }
   ],
   "source": [
    "s"
   ]
  },
  {
   "cell_type": "code",
   "execution_count": 79,
   "id": "cbd3d910",
   "metadata": {},
   "outputs": [
    {
     "data": {
      "text/plain": [
       "count    6.000000\n",
       "mean     8.333333\n",
       "std      0.816497\n",
       "min      7.000000\n",
       "25%      8.000000\n",
       "50%      8.500000\n",
       "75%      9.000000\n",
       "max      9.000000\n",
       "dtype: float64"
      ]
     },
     "execution_count": 79,
     "metadata": {},
     "output_type": "execute_result"
    }
   ],
   "source": [
    "# The .describe method outputs some helpful descriptive statistics\n",
    "s.describe()"
   ]
  },
  {
   "cell_type": "code",
   "execution_count": 81,
   "id": "a1811950-5c01-46d7-b024-0569e3aec80d",
   "metadata": {},
   "outputs": [
    {
     "data": {
      "text/plain": [
       "-3"
      ]
     },
     "execution_count": 81,
     "metadata": {},
     "output_type": "execute_result"
    }
   ],
   "source": [
    "#acsessing items in panda series\n",
    "numbers[0]"
   ]
  },
  {
   "cell_type": "code",
   "execution_count": 83,
   "id": "ba6874d3-4d65-44bd-aab8-227fa3ff7e99",
   "metadata": {},
   "outputs": [
    {
     "data": {
      "text/plain": [
       "0   -3\n",
       "1   -2\n",
       "2   -1\n",
       "dtype: int64"
      ]
     },
     "execution_count": 83,
     "metadata": {},
     "output_type": "execute_result"
    }
   ],
   "source": [
    "#accessing numbers from index 0 to 3\n",
    "numbers[0:3]"
   ]
  },
  {
   "cell_type": "markdown",
   "id": "5f8f9495",
   "metadata": {},
   "source": [
    "### Exercise check-in, part 1 of 3\n",
    "- Create a series named `a` that is the numbers `[1, 2, 3, 4, 5]`\n",
    "- Create a series named `b` that is the numbers `[1, 1, 2, 3, 5]`\n",
    "- Square `a` and reassign to the variable `a`\n",
    "- Square `b` and reassign to the variable `b`\n",
    "- Add the squares `a` and `b`. Assign to a variable named `sum_of_squares`\n",
    "- Now take the square root of that sum (*hint* raising to the 0.5 power takes the square root)"
   ]
  },
  {
   "cell_type": "code",
   "execution_count": 121,
   "id": "5c8920ad",
   "metadata": {},
   "outputs": [
    {
     "data": {
      "text/plain": [
       "0    1\n",
       "1    2\n",
       "2    3\n",
       "3    4\n",
       "4    5\n",
       "dtype: int64"
      ]
     },
     "execution_count": 121,
     "metadata": {},
     "output_type": "execute_result"
    }
   ],
   "source": [
    "# Create a series named \"a\" and assign it the numbers [1, 2, 3, 4, 5]\n",
    "a = pd.Series([1,2,3,4,5])\n",
    "a"
   ]
  },
  {
   "cell_type": "code",
   "execution_count": 113,
   "id": "701d878e",
   "metadata": {},
   "outputs": [
    {
     "data": {
      "text/plain": [
       "0    1\n",
       "1    1\n",
       "2    2\n",
       "3    3\n",
       "4    5\n",
       "dtype: int64"
      ]
     },
     "execution_count": 113,
     "metadata": {},
     "output_type": "execute_result"
    }
   ],
   "source": [
    "# Create a series named \"b\" and assign it the numbers [1, 1, 2, 3, 5]\n",
    "b = pd.Series([1,1,2,3,5])\n",
    "b"
   ]
  },
  {
   "cell_type": "code",
   "execution_count": 123,
   "id": "2dcb3e40",
   "metadata": {},
   "outputs": [
    {
     "data": {
      "text/plain": [
       "0     1\n",
       "1     4\n",
       "2     9\n",
       "3    16\n",
       "4    25\n",
       "dtype: int64"
      ]
     },
     "execution_count": 123,
     "metadata": {},
     "output_type": "execute_result"
    }
   ],
   "source": [
    "# Square all the numbers in a and reassign the result to a\n",
    "a = a**2\n",
    "a"
   ]
  },
  {
   "cell_type": "code",
   "execution_count": 119,
   "id": "5ac5f690",
   "metadata": {},
   "outputs": [
    {
     "data": {
      "text/plain": [
       "0     1\n",
       "1     1\n",
       "2     4\n",
       "3     9\n",
       "4    25\n",
       "dtype: int64"
      ]
     },
     "execution_count": 119,
     "metadata": {},
     "output_type": "execute_result"
    }
   ],
   "source": [
    "# Square all the numbers in b and reassign the result to b\n",
    "b = b**2\n",
    "b"
   ]
  },
  {
   "cell_type": "code",
   "execution_count": 129,
   "id": "e96b07fd",
   "metadata": {},
   "outputs": [
    {
     "data": {
      "text/plain": [
       "0     2\n",
       "1     5\n",
       "2    13\n",
       "3    25\n",
       "4    50\n",
       "dtype: int64"
      ]
     },
     "execution_count": 129,
     "metadata": {},
     "output_type": "execute_result"
    }
   ],
   "source": [
    "# Create a series named sum_of_squares that holds the sum of a and b squares\n",
    "sum_of_squares = pd.Series(a+b)\n",
    "sum_of_squares"
   ]
  },
  {
   "cell_type": "code",
   "execution_count": 133,
   "id": "5ad7ab47",
   "metadata": {},
   "outputs": [
    {
     "data": {
      "text/plain": [
       "0    1.414214\n",
       "1    2.236068\n",
       "2    3.605551\n",
       "3    5.000000\n",
       "4    7.071068\n",
       "dtype: float64"
      ]
     },
     "execution_count": 133,
     "metadata": {},
     "output_type": "execute_result"
    }
   ],
   "source": [
    "# Evaluate the square root of that sum_of_squares\n",
    "sum_of_squares**(1/2)"
   ]
  },
  {
   "cell_type": "markdown",
   "id": "38a73d3c",
   "metadata": {},
   "source": [
    "For more on the pandas .apply method, see https://pandas.pydata.org/docs/reference/api/pandas.DataFrame.apply.html"
   ]
  }
 ],
 "metadata": {
  "kernelspec": {
   "display_name": "anaconda-2022.05-py39",
   "language": "python",
   "name": "conda-env-anaconda-2022.05-py39-py"
  },
  "language_info": {
   "codemirror_mode": {
    "name": "ipython",
    "version": 3
   },
   "file_extension": ".py",
   "mimetype": "text/x-python",
   "name": "python",
   "nbconvert_exporter": "python",
   "pygments_lexer": "ipython3",
   "version": "3.9.12"
  }
 },
 "nbformat": 4,
 "nbformat_minor": 5
}
